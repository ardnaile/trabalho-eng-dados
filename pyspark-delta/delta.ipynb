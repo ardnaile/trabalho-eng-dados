{
 "cells": [
  {
   "cell_type": "code",
   "execution_count": 1,
   "id": "84e5cd6f-9de8-4214-9182-a7a459f5636e",
   "metadata": {},
   "outputs": [],
   "source": [
    "# Imports\n",
    "\n",
    "from pyspark.sql import SparkSession\n",
    "from pyspark.sql.types import StructType, StructField, StringType, FloatType, IntegerType, DateType\n",
    "\n",
    "from delta import *"
   ]
  },
  {
   "cell_type": "code",
   "execution_count": null,
   "id": "169e5c17-3d1f-4cbe-a735-2accc7368b60",
   "metadata": {},
   "outputs": [],
   "source": [
    "# Criando a SparkSession \n",
    "\n",
    "spark = ( \n",
    "    SparkSession\n",
    "    .builder\n",
    "    .master(\"local[*]\")\n",
    "    .config(\"spark.jars.packages\", \"io.delta:delta-core_2.12:2.4.0\")\n",
    "    .config(\"spark.sql.extensions\", \"io.delta.sql.DeltaSparkSessionExtension\")\n",
    "    .config(\"spark.sql.catalog.spark_catalog\", \"org.apache.spark.sql.delta.catalog.DeltaCatalog\")\n",
    "    .getOrCreate() \n",
    ")"
   ]
  },
  {
   "cell_type": "code",
   "execution_count": 4,
   "id": "60fa9f46-87e6-4ab5-9698-42dd8b248bf0",
   "metadata": {},
   "outputs": [
    {
     "name": "stdout",
     "output_type": "stream",
     "text": [
      "+----------+-----+-----------+\n",
      "|CLIENTE_ID|NOME |CPF        |\n",
      "+----------+-----+-----------+\n",
      "|1         |MARIA|12345678901|\n",
      "|2         |LUANA|99999999999|\n",
      "|3         |PAULO|11122233345|\n",
      "+----------+-----+-----------+\n",
      "\n"
     ]
    }
   ],
   "source": [
    "# Criando uma lista de tuplas que contem os dados da tabela cliente que vao ser utilizados neste caso\n",
    "\n",
    "data_clientes = [\n",
    "    (\"1\", \"MARIA\",\"12345678901\"),\n",
    "    (\"2\", \"LUANA\",\"99999999999\"),\n",
    "    (\"3\", \"PAULO\",\"11122233345\")\n",
    "]\n",
    "\n",
    "# Criando o schema da tabela clientes\n",
    "\n",
    "schema_clientes = (\n",
    "    StructType([\n",
    "        StructField(\"CLIENTE_ID\", StringType(), False), # false indica que nao pode ser nulo\n",
    "        StructField(\"NOME\", StringType(), True),\n",
    "        StructField(\"CPF\", StringType(), True) # true indica que pode ser nulo\n",
    "    ])\n",
    ")\n",
    "\n",
    "# Criando um dataframe a partir dos dados e do schema\n",
    "\n",
    "df_clientes = spark.createDataFrame(data=data_clientes,schema=schema_clientes)\n",
    "\n",
    "# Mostrando o dataframe criado\n",
    "\n",
    "df_clientes.show(truncate=False)"
   ]
  },
  {
   "cell_type": "code",
   "execution_count": null,
   "id": "c796c5a3-2ce8-4a8b-91bd-b4fbea417644",
   "metadata": {},
   "outputs": [],
   "source": [
    "# Salvando a delta table localmente\n",
    "\n",
    "( \n",
    "    df_clientes\n",
    "    .write\n",
    "    .format(\"delta\")\n",
    "    .mode('overwrite')\n",
    "    .save(\"./RAW/CLIENTES\")\n",
    ")"
   ]
  },
  {
   "cell_type": "code",
   "execution_count": 6,
   "id": "04412bbc-5f0a-491f-99a5-4d537ab9cbbd",
   "metadata": {},
   "outputs": [
    {
     "name": "stdout",
     "output_type": "stream",
     "text": [
      "+----------+-----------+-----------+\n",
      "|CLIENTE_ID|       NOME|        CPF|\n",
      "+----------+-----------+-----------+\n",
      "|         1|MARIA LUIZA|12345678901|\n",
      "+----------+-----------+-----------+\n",
      "\n"
     ]
    }
   ],
   "source": [
    "# Simulando a atualizacao de registros no data lakehouse\n",
    "\n",
    "new_data_clientes = [\n",
    "    (\"1\", \"MARIA LUIZA\",\"12345678901\")  \n",
    "]\n",
    "\n",
    "df_new_clientes = spark.createDataFrame(data=new_data_clientes, schema=schema_clientes)\n",
    "\n",
    "df_new_clientes.show()"
   ]
  },
  {
   "cell_type": "code",
   "execution_count": 7,
   "id": "7729e53f-700d-4af9-a229-3b7b69a06d4f",
   "metadata": {},
   "outputs": [
    {
     "name": "stderr",
     "output_type": "stream",
     "text": [
      "                                                                                \r"
     ]
    }
   ],
   "source": [
    "# Upsert/Merge dos dados atuais com os novos dados\n",
    "\n",
    "deltaTable = DeltaTable.forPath(spark, \"./RAW/CLIENTES\")\n",
    "\n",
    "(\n",
    "    deltaTable.alias(\"dados_atuais\")\n",
    "    .merge(\n",
    "        df_new_clientes.alias(\"novos_dados\"),\n",
    "        \"dados_atuais.CLIENTE_ID = novos_dados.CLIENTE_ID\"\n",
    "    )\n",
    "    .whenMatchedUpdateAll()\n",
    "    .whenNotMatchedInsertAll()\n",
    "    .execute()\n",
    ")"
   ]
  },
  {
   "cell_type": "code",
   "execution_count": 18,
   "id": "02c9995e-6cd7-4b30-ba8e-9c054a65aca6",
   "metadata": {},
   "outputs": [
    {
     "name": "stderr",
     "output_type": "stream",
     "text": [
      "[Stage 167:======================================>                (35 + 2) / 50]\r"
     ]
    },
    {
     "name": "stdout",
     "output_type": "stream",
     "text": [
      "+----------+-----------+-----------+\n",
      "|CLIENTE_ID|       NOME|        CPF|\n",
      "+----------+-----------+-----------+\n",
      "|         1|MARIA LUIZA|12345678901|\n",
      "|         2|      LUANA|99999999999|\n",
      "|         3|      PAULO|11122233345|\n",
      "+----------+-----------+-----------+\n",
      "\n"
     ]
    },
    {
     "name": "stderr",
     "output_type": "stream",
     "text": [
      "                                                                                \r"
     ]
    }
   ],
   "source": [
    "# Utilizamos esse comando para conferir se o conteudo foi alterado corretamente\n",
    "\n",
    "deltaTable.toDF().show()"
   ]
  },
  {
   "cell_type": "code",
   "execution_count": 11,
   "id": "df44b919-8fa8-4c1e-8fbd-7d156a68690e",
   "metadata": {},
   "outputs": [
    {
     "name": "stderr",
     "output_type": "stream",
     "text": [
      "                                                                                \r"
     ]
    }
   ],
   "source": [
    "# Simulando o delete de registro do DeltaTable\n",
    "\n",
    "deltaTable.delete(\"CPF = 12345678901\")"
   ]
  },
  {
   "cell_type": "code",
   "execution_count": 13,
   "id": "2e19987a-d2bd-48bd-8fa7-68f474893d3e",
   "metadata": {},
   "outputs": [
    {
     "name": "stdout",
     "output_type": "stream",
     "text": [
      "+-------+--------------------+---------+--------------------+\n",
      "|version|           timestamp|operation|    operationMetrics|\n",
      "+-------+--------------------+---------+--------------------+\n",
      "|      2|2024-10-02 19:47:...|   DELETE|{numRemovedFiles ...|\n",
      "|      1|2024-10-02 19:42:...|    MERGE|{numTargetRowsCop...|\n",
      "|      0|2024-10-02 19:34:...|    WRITE|{numFiles -> 2, n...|\n",
      "+-------+--------------------+---------+--------------------+\n",
      "\n"
     ]
    }
   ],
   "source": [
    "# Acessando o historico de mudancas que ocorrem no delta table\n",
    "(\n",
    "    deltaTable\n",
    "    .history()\n",
    "    .select(\"version\", \"timestamp\", \"operation\", \"operationMetrics\")\n",
    "    .show()\n",
    ")"
   ]
  },
  {
   "cell_type": "code",
   "execution_count": 16,
   "id": "676dda28-83f7-49f3-ad0b-97bdf43d33aa",
   "metadata": {},
   "outputs": [
    {
     "name": "stderr",
     "output_type": "stream",
     "text": [
      "                                                                                \r"
     ]
    },
    {
     "name": "stdout",
     "output_type": "stream",
     "text": [
      "+----------+-----+-----------+\n",
      "|CLIENTE_ID| NOME|        CPF|\n",
      "+----------+-----+-----------+\n",
      "|         1|MARIA|12345678901|\n",
      "|         2|LUANA|99999999999|\n",
      "|         3|PAULO|11122233345|\n",
      "+----------+-----+-----------+\n",
      "\n"
     ]
    }
   ],
   "source": [
    "# Lendo dados da primeira versao da tabela\n",
    "\n",
    "(\n",
    "    spark\n",
    "    .read\n",
    "    .format('delta')\n",
    "    .option(\"versionAsOf\", 0)\n",
    "    .load('./RAW/CLIENTES')\n",
    "    .show()\n",
    ")"
   ]
  },
  {
   "cell_type": "code",
   "execution_count": 17,
   "id": "1df1878b-96c8-416b-b297-431721ce53b4",
   "metadata": {},
   "outputs": [
    {
     "name": "stderr",
     "output_type": "stream",
     "text": [
      "                                                                                \r"
     ]
    },
    {
     "data": {
      "text/plain": [
       "DataFrame[table_size_after_restore: bigint, num_of_files_after_restore: bigint, num_removed_files: bigint, num_restored_files: bigint, removed_files_size: bigint, restored_files_size: bigint]"
      ]
     },
     "execution_count": 17,
     "metadata": {},
     "output_type": "execute_result"
    }
   ],
   "source": [
    "# Restaurando uma versao antiga, nesse caso a versao 1, antes de excluirmos o registro com id 1\n",
    "\n",
    "deltaTable.restoreToVersion(1)"
   ]
  },
  {
   "cell_type": "code",
   "execution_count": null,
   "id": "7100bfb2-dcd7-46f5-8d1d-ce1c4b99cbf4",
   "metadata": {},
   "outputs": [],
   "source": []
  }
 ],
 "metadata": {
  "kernelspec": {
   "display_name": "Python 3 (ipykernel)",
   "language": "python",
   "name": "python3"
  },
  "language_info": {
   "codemirror_mode": {
    "name": "ipython",
    "version": 3
   },
   "file_extension": ".py",
   "mimetype": "text/x-python",
   "name": "python",
   "nbconvert_exporter": "python",
   "pygments_lexer": "ipython3",
   "version": "3.11.9"
  }
 },
 "nbformat": 4,
 "nbformat_minor": 5
}
