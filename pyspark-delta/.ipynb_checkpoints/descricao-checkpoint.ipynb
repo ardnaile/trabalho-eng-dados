{
 "cells": [
  {
   "cell_type": "markdown",
   "metadata": {
    "id": "JNxEglyJcUIk"
   },
   "source": [
    "# Descrição\n",
    "\n",
    "Este notebook descreve a estrutura das tabelas, o modelo ER e os códigos DDL para recriar o esquema."
   ]
  },
  {
   "cell_type": "markdown",
   "metadata": {
    "id": "NsECpZ1CcuxH"
   },
   "source": [
    "# Fonte de Dados\n",
    "\n",
    "Os dados utilizados neste trabalho são fictícios. Eles simulam um sistema de vendas com três tabelas: clientes, produtos e vendas."
   ]
  },
  {
   "cell_type": "markdown",
   "metadata": {
    "id": "we5N-3w9dEiW"
   },
   "source": [
    "# Modelo Entidade-Relacionamento\n",
    "\n",
    "O [modelo ER](https://dbdiagram.io/d/eng-dados-delta-lake-66fc0449fb079c7ebdfa1761) foi feito no dbdiagram.io.\n",
    "\n",
    "![eng-dados-delta-lake.png](eng-dados-delta-lake.png)\n"
   ]
  },
  {
   "cell_type": "markdown",
   "metadata": {
    "id": "vUgYLCvDgWjO"
   },
   "source": [
    "# Tabelas e relacionamentos\n",
    "\n",
    "A tabela \"clientes\" conta com o id como primary key, nome e cpf. Essa tabela foi escolhida no caso do Delta Lake para exemplificar os comandos de INSERT, UPDATE e DELETE, assim como algumas outras funcionalidades do Delta Lake:\n",
    "\n",
    "```\n",
    "Table clientes {\n",
    "  cliente_id string pk\n",
    "  nome string\n",
    "  cpf int\n",
    "}\n",
    "```\n",
    "\n",
    "A tabela \"vendas\" faz referência ao cliente_id e ao produto_id. Cada venda pode ter apenas um produto, para simplificar o sistema, visto que o objetivo é compreender o uso do PySpark, Delta Lake e Apache Iceberg com tabelas simples.\n",
    "\n",
    "```\n",
    "Table vendas {\n",
    "  venda_id string pk\n",
    "  cliente_id string [ref : > clientes.cliente_id]\n",
    "  produto_id string [ref : > produtos.produto_id]\n",
    "  dt_venda datetime\n",
    "}\n",
    "```\n",
    "A tabela \"produtos\" conta com o id como primary key, descrição, preço e quantidade do produto em estoque.\n",
    "\n",
    "```\n",
    "Table produtos{\n",
    "  produto_id string pk\n",
    "  descricao string\n",
    "  preco float\n",
    "  qtd_estoque int\n",
    "}\n",
    "\n",
    "```"
   ]
  },
  {
   "cell_type": "code",
   "execution_count": null,
   "metadata": {},
   "outputs": [],
   "source": []
  }
 ],
 "metadata": {
  "colab": {
   "provenance": []
  },
  "kernelspec": {
   "display_name": "Python 3 (ipykernel)",
   "language": "python",
   "name": "python3"
  },
  "language_info": {
   "codemirror_mode": {
    "name": "ipython",
    "version": 3
   },
   "file_extension": ".py",
   "mimetype": "text/x-python",
   "name": "python",
   "nbconvert_exporter": "python",
   "pygments_lexer": "ipython3",
   "version": "3.11.9"
  }
 },
 "nbformat": 4,
 "nbformat_minor": 4
}
